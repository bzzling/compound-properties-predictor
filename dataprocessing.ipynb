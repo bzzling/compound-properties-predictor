{
 "cells": [
  {
   "cell_type": "code",
   "execution_count": 1,
   "metadata": {},
   "outputs": [
    {
     "name": "stdout",
     "output_type": "stream",
     "text": [
      "0                         CC(=O)OC(CC(=O)[O-])C[N+](C)(C)C\n",
      "1                                                  CC(CN)O\n",
      "2                C1=CC(=C(C=C1[N+](=O)[O-])[N+](=O)[O-])Cl\n",
      "3                                                 C(CCl)Cl\n",
      "4                                    C1=CC(=C(C=C1Cl)Cl)Cl\n",
      "                               ...                        \n",
      "68701    CC(=C)[C@@H]1[C@H]2[C@@H]3C4([C@]([C@@H]1C(=O)...\n",
      "68702    CN1C[C@@]2([C@@H]3C[C@@H]4[C@@]5([C@H]2[C@H]1[...\n",
      "68703    C(CC(=O)N[C@@H](C[S-])C(=O)NCC(=O)O)[C@@H](C(=...\n",
      "68704    CC1C(C(=O)/C(=C\\N(C)C2=C(C(=C(C(=C2C)C)S(=O)(=...\n",
      "68705    [HH].[HH].C([C@@H]([C@@H]1C(=C(C(=O)O1)O)O)O)O...\n",
      "Name: isosmiles, Length: 68706, dtype: object\n"
     ]
    }
   ],
   "source": [
    "import pandas as pd\n",
    "\n",
    "df = pd.read_csv('data/pubchem_data.csv')\n",
    "print(df['isosmiles'])"
   ]
  },
  {
   "cell_type": "code",
   "execution_count": 6,
   "metadata": {},
   "outputs": [
    {
     "name": "stdout",
     "output_type": "stream",
     "text": [
      "13\n"
     ]
    }
   ],
   "source": [
    "print(df.columns.get_loc('isosmiles'))"
   ]
  },
  {
   "cell_type": "code",
   "execution_count": 10,
   "metadata": {},
   "outputs": [
    {
     "name": "stdout",
     "output_type": "stream",
     "text": [
      " cid                                                                  24267\n",
      "cmpdname                                              Fluorophosphoric acid\n",
      "cmpdsynonym               fluorophosphoric acid|13537-32-1|Phosphorofluo...\n",
      "mw                                                                   99.986\n",
      "mf                                                                   FH2O3P\n",
      "polararea                                                              57.5\n",
      "complexity                                                             61.3\n",
      "xlogp                                                                  -1.1\n",
      "heavycnt                                                                  5\n",
      "hbonddonor                                                                2\n",
      "hbondacc                                                                  4\n",
      "rotbonds                                                                  0\n",
      "inchi                                InChI=1S/FH2O3P/c1-5(2,3)4/h(H2,2,3,4)\n",
      "isosmiles                                                        OP(=O)(O)F\n",
      "canonicalsmiles                                                  OP(=O)(O)F\n",
      "inchikey                                        DWYMPOCYEZONEA-UHFFFAOYSA-N\n",
      "iupacname                                             fluorophosphonic acid\n",
      "exactmass                                                           99.9726\n",
      "monoisotopicmass                                                    99.9726\n",
      "charge                                                                    0\n",
      "covalentunitcnt                                                           1\n",
      "isotopeatomcnt                                                            0\n",
      "totalatomstereocnt                                                        0\n",
      "definedatomstereocnt                                                      0\n",
      "undefinedatomstereocnt                                                    0\n",
      "totalbondstereocnt                                                        0\n",
      "definedbondstereocnt                                                      0\n",
      "undefinedbondstereocnt                                                    0\n",
      "pclidcnt                                                                 59\n",
      "gpidcnt                                                                3035\n",
      "gpfamilycnt                                                            1721\n",
      "meshheadings                                                            NaN\n",
      "annothits                 Biological Test Results|Interactions and Pathw...\n",
      "annothitcnt                                                              11\n",
      "aids                      1259397|1259398|1259399|1259416|1259421|125942...\n",
      "cidcdate                                                           20040916\n",
      "sidsrcname                001Chemical|10X CHEM|1st Scientific|3B Scienti...\n",
      "depcatg                   Chemical Vendors|Curation Efforts|Governmental...\n",
      "annotation                                                              NaN\n",
      "Name: 4567, dtype: object\n"
     ]
    }
   ],
   "source": [
    "print(df.iloc[4567])"
   ]
  }
 ],
 "metadata": {
  "kernelspec": {
   "display_name": "ml",
   "language": "python",
   "name": "ml"
  },
  "language_info": {
   "codemirror_mode": {
    "name": "ipython",
    "version": 3
   },
   "file_extension": ".py",
   "mimetype": "text/x-python",
   "name": "python",
   "nbconvert_exporter": "python",
   "pygments_lexer": "ipython3",
   "version": "3.11.5"
  }
 },
 "nbformat": 4,
 "nbformat_minor": 2
}
