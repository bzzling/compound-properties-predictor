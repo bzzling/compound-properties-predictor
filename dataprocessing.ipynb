{
 "cells": [
  {
   "cell_type": "code",
   "execution_count": 2,
   "metadata": {},
   "outputs": [
    {
     "name": "stdout",
     "output_type": "stream",
     "text": [
      "0                         CC(=O)OC(CC(=O)[O-])C[N+](C)(C)C\n",
      "1                                                  CC(CN)O\n",
      "2                C1=CC(=C(C=C1[N+](=O)[O-])[N+](=O)[O-])Cl\n",
      "3                                                 C(CCl)Cl\n",
      "4                                    C1=CC(=C(C=C1Cl)Cl)Cl\n",
      "                               ...                        \n",
      "68701    CC(=C)[C@@H]1[C@H]2[C@@H]3C4([C@]([C@@H]1C(=O)...\n",
      "68702    CN1C[C@@]2([C@@H]3C[C@@H]4[C@@]5([C@H]2[C@H]1[...\n",
      "68703    C(CC(=O)N[C@@H](C[S-])C(=O)NCC(=O)O)[C@@H](C(=...\n",
      "68704    CC1C(C(=O)/C(=C\\N(C)C2=C(C(=C(C(=C2C)C)S(=O)(=...\n",
      "68705    [HH].[HH].C([C@@H]([C@@H]1C(=C(C(=O)O1)O)O)O)O...\n",
      "Name: isosmiles, Length: 68706, dtype: object\n"
     ]
    }
   ],
   "source": [
    "import pandas as pd\n",
    "\n",
    "df = pd.read_csv('data/pubchem_data.csv')\n",
    "print(df['isosmiles'])"
   ]
  },
  {
   "cell_type": "code",
   "execution_count": 6,
   "metadata": {},
   "outputs": [
    {
     "name": "stdout",
     "output_type": "stream",
     "text": [
      "13\n"
     ]
    }
   ],
   "source": [
    "print(df.columns.get_loc('isosmiles'))"
   ]
  },
  {
   "cell_type": "code",
   "execution_count": 10,
   "metadata": {},
   "outputs": [
    {
     "name": "stdout",
     "output_type": "stream",
     "text": [
      " cid                                                                  24267\n",
      "cmpdname                                              Fluorophosphoric acid\n",
      "cmpdsynonym               fluorophosphoric acid|13537-32-1|Phosphorofluo...\n",
      "mw                                                                   99.986\n",
      "mf                                                                   FH2O3P\n",
      "polararea                                                              57.5\n",
      "complexity                                                             61.3\n",
      "xlogp                                                                  -1.1\n",
      "heavycnt                                                                  5\n",
      "hbonddonor                                                                2\n",
      "hbondacc                                                                  4\n",
      "rotbonds                                                                  0\n",
      "inchi                                InChI=1S/FH2O3P/c1-5(2,3)4/h(H2,2,3,4)\n",
      "isosmiles                                                        OP(=O)(O)F\n",
      "canonicalsmiles                                                  OP(=O)(O)F\n",
      "inchikey                                        DWYMPOCYEZONEA-UHFFFAOYSA-N\n",
      "iupacname                                             fluorophosphonic acid\n",
      "exactmass                                                           99.9726\n",
      "monoisotopicmass                                                    99.9726\n",
      "charge                                                                    0\n",
      "covalentunitcnt                                                           1\n",
      "isotopeatomcnt                                                            0\n",
      "totalatomstereocnt                                                        0\n",
      "definedatomstereocnt                                                      0\n",
      "undefinedatomstereocnt                                                    0\n",
      "totalbondstereocnt                                                        0\n",
      "definedbondstereocnt                                                      0\n",
      "undefinedbondstereocnt                                                    0\n",
      "pclidcnt                                                                 59\n",
      "gpidcnt                                                                3035\n",
      "gpfamilycnt                                                            1721\n",
      "meshheadings                                                            NaN\n",
      "annothits                 Biological Test Results|Interactions and Pathw...\n",
      "annothitcnt                                                              11\n",
      "aids                      1259397|1259398|1259399|1259416|1259421|125942...\n",
      "cidcdate                                                           20040916\n",
      "sidsrcname                001Chemical|10X CHEM|1st Scientific|3B Scienti...\n",
      "depcatg                   Chemical Vendors|Curation Efforts|Governmental...\n",
      "annotation                                                              NaN\n",
      "Name: 4567, dtype: object\n"
     ]
    }
   ],
   "source": [
    "print(df.iloc[4567])"
   ]
  },
  {
   "cell_type": "code",
   "execution_count": 3,
   "metadata": {},
   "outputs": [
    {
     "name": "stdout",
     "output_type": "stream",
     "text": [
      "0       OCC3OC(OCC2OC(OC(C#N)c1ccccc1)C(O)C(O)C2O)C(O)...\n",
      "1                                  Cc1occc1C(=O)Nc2ccccc2\n",
      "2                                    CC(C)=CCCC(C)=CC(=O)\n",
      "3                      c1ccc2c(c1)ccc3c2ccc4c5ccccc5ccc43\n",
      "4                                                 c1ccsc1\n",
      "                              ...                        \n",
      "1123                                     FC(F)(F)C(Cl)Br \n",
      "1124                            CNC(=O)ON=C(SC)C(=O)N(C)C\n",
      "1125                                    CCSCCSP(=S)(OC)OC\n",
      "1126                                              CCC(C)C\n",
      "1127                COP(=O)(OC)OC(=CCl)c1cc(Cl)c(Cl)cc1Cl\n",
      "Name: smiles, Length: 1128, dtype: object\n"
     ]
    }
   ],
   "source": [
    "df2 = pd.read_csv('data/delaney-processed.csv')\n",
    "print(df2['smiles'])"
   ]
  },
  {
   "cell_type": "code",
   "execution_count": 9,
   "metadata": {},
   "outputs": [
    {
     "name": "stdout",
     "output_type": "stream",
     "text": [
      "0      -0.770\n",
      "1      -3.300\n",
      "2      -2.060\n",
      "3      -7.870\n",
      "4      -1.330\n",
      "        ...  \n",
      "1123   -1.710\n",
      "1124    0.106\n",
      "1125   -3.091\n",
      "1126   -3.180\n",
      "1127   -4.522\n",
      "Name: measured log solubility in mols per litre, Length: 1128, dtype: float64\n"
     ]
    }
   ],
   "source": [
    "print(df2['measured log solubility in mols per litre'])"
   ]
  },
  {
   "cell_type": "code",
   "execution_count": 8,
   "metadata": {},
   "outputs": [
    {
     "name": "stdout",
     "output_type": "stream",
     "text": [
      "         Compound ID  ESOL predicted log solubility in mols per litre  \\\n",
      "0          Amigdalin                                           -0.974   \n",
      "1           Fenfuram                                           -2.885   \n",
      "2             citral                                           -2.579   \n",
      "3             Picene                                           -6.618   \n",
      "4          Thiophene                                           -2.232   \n",
      "...              ...                                              ...   \n",
      "1123       halothane                                           -2.608   \n",
      "1124          Oxamyl                                           -0.908   \n",
      "1125       Thiometon                                           -3.323   \n",
      "1126  2-Methylbutane                                           -2.245   \n",
      "1127        Stirofos                                           -4.320   \n",
      "\n",
      "      Minimum Degree  Molecular Weight  Number of H-Bond Donors  \\\n",
      "0                  1           457.432                        7   \n",
      "1                  1           201.225                        1   \n",
      "2                  1           152.237                        0   \n",
      "3                  2           278.354                        0   \n",
      "4                  2            84.143                        0   \n",
      "...              ...               ...                      ...   \n",
      "1123               1           197.381                        0   \n",
      "1124               1           219.266                        1   \n",
      "1125               1           246.359                        0   \n",
      "1126               1            72.151                        0   \n",
      "1127               1           365.964                        0   \n",
      "\n",
      "      Number of Rings  Number of Rotatable Bonds  Polar Surface Area  \\\n",
      "0                   3                          7              202.32   \n",
      "1                   2                          2               42.24   \n",
      "2                   0                          4               17.07   \n",
      "3                   5                          0                0.00   \n",
      "4                   1                          0                0.00   \n",
      "...               ...                        ...                 ...   \n",
      "1123                0                          0                0.00   \n",
      "1124                0                          1               71.00   \n",
      "1125                0                          7               18.46   \n",
      "1126                0                          1                0.00   \n",
      "1127                1                          5               44.76   \n",
      "\n",
      "      measured log solubility in mols per litre  \\\n",
      "0                                        -0.770   \n",
      "1                                        -3.300   \n",
      "2                                        -2.060   \n",
      "3                                        -7.870   \n",
      "4                                        -1.330   \n",
      "...                                         ...   \n",
      "1123                                     -1.710   \n",
      "1124                                      0.106   \n",
      "1125                                     -3.091   \n",
      "1126                                     -3.180   \n",
      "1127                                     -4.522   \n",
      "\n",
      "                                                 smiles  \n",
      "0     OCC3OC(OCC2OC(OC(C#N)c1ccccc1)C(O)C(O)C2O)C(O)...  \n",
      "1                                Cc1occc1C(=O)Nc2ccccc2  \n",
      "2                                  CC(C)=CCCC(C)=CC(=O)  \n",
      "3                    c1ccc2c(c1)ccc3c2ccc4c5ccccc5ccc43  \n",
      "4                                               c1ccsc1  \n",
      "...                                                 ...  \n",
      "1123                                   FC(F)(F)C(Cl)Br   \n",
      "1124                          CNC(=O)ON=C(SC)C(=O)N(C)C  \n",
      "1125                                  CCSCCSP(=S)(OC)OC  \n",
      "1126                                            CCC(C)C  \n",
      "1127              COP(=O)(OC)OC(=CCl)c1cc(Cl)c(Cl)cc1Cl  \n",
      "\n",
      "[1128 rows x 10 columns]\n"
     ]
    }
   ],
   "source": [
    "print(df2)"
   ]
  }
 ],
 "metadata": {
  "kernelspec": {
   "display_name": "ml",
   "language": "python",
   "name": "ml"
  },
  "language_info": {
   "codemirror_mode": {
    "name": "ipython",
    "version": 3
   },
   "file_extension": ".py",
   "mimetype": "text/x-python",
   "name": "python",
   "nbconvert_exporter": "python",
   "pygments_lexer": "ipython3",
   "version": "3.11.5"
  }
 },
 "nbformat": 4,
 "nbformat_minor": 2
}
